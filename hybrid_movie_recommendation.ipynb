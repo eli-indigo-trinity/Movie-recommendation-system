{
  "nbformat": 4,
  "nbformat_minor": 0,
  "metadata": {
    "colab": {
      "provenance": []
    },
    "kernelspec": {
      "name": "python3",
      "display_name": "Python 3"
    },
    "language_info": {
      "name": "python"
    }
  },
  "cells": [
    {
      "cell_type": "code",
      "metadata": {
        "id": "DR3yMFZzSNrK"
      },
      "source": [
        "# lets x equal the user id of the chosen user\n",
        "x = 73"
      ],
      "execution_count": null,
      "outputs": []
    },
    {
      "cell_type": "markdown",
      "metadata": {
        "id": "Hkj5VRUR-XKk"
      },
      "source": [
        "##Getting Top 10 recommendations for user x using SVD collaborative filtering"
      ]
    },
    {
      "cell_type": "code",
      "metadata": {
        "colab": {
          "base_uri": "https://localhost:8080/"
        },
        "id": "5kAv2eKR-Dxg",
        "outputId": "36d0c4c8-f6f9-497d-f8a6-41c38275c76a"
      },
      "source": [
        "# installs surprise library\n",
        "! pip install scikit-surprise"
      ],
      "execution_count": null,
      "outputs": [
        {
          "output_type": "stream",
          "name": "stdout",
          "text": [
            "Collecting scikit-surprise\n",
            "  Downloading scikit-surprise-1.1.1.tar.gz (11.8 MB)\n",
            "\u001b[K     |████████████████████████████████| 11.8 MB 28.0 MB/s \n",
            "\u001b[?25hRequirement already satisfied: joblib>=0.11 in /usr/local/lib/python3.7/dist-packages (from scikit-surprise) (1.1.0)\n",
            "Requirement already satisfied: numpy>=1.11.2 in /usr/local/lib/python3.7/dist-packages (from scikit-surprise) (1.19.5)\n",
            "Requirement already satisfied: scipy>=1.0.0 in /usr/local/lib/python3.7/dist-packages (from scikit-surprise) (1.4.1)\n",
            "Requirement already satisfied: six>=1.10.0 in /usr/local/lib/python3.7/dist-packages (from scikit-surprise) (1.15.0)\n",
            "Building wheels for collected packages: scikit-surprise\n",
            "  Building wheel for scikit-surprise (setup.py) ... \u001b[?25l\u001b[?25hdone\n",
            "  Created wheel for scikit-surprise: filename=scikit_surprise-1.1.1-cp37-cp37m-linux_x86_64.whl size=1619435 sha256=325c610be04ab098a404424f0506a1d5c788613a515de87cf7ea87ef0b851788\n",
            "  Stored in directory: /root/.cache/pip/wheels/76/44/74/b498c42be47b2406bd27994e16c5188e337c657025ab400c1c\n",
            "Successfully built scikit-surprise\n",
            "Installing collected packages: scikit-surprise\n",
            "Successfully installed scikit-surprise-1.1.1\n"
          ]
        }
      ]
    },
    {
      "cell_type": "code",
      "metadata": {
        "id": "6pVkSAB0-kL7"
      },
      "source": [
        "# imports needed modules\n",
        "from surprise import Reader\n",
        "from surprise import Dataset\n",
        "from surprise import accuracy\n",
        "from surprise.prediction_algorithms.matrix_factorization import SVD\n",
        "import random\n",
        "from collections import defaultdict"
      ],
      "execution_count": null,
      "outputs": []
    },
    {
      "cell_type": "code",
      "metadata": {
        "id": "LViq1mLNIeWB"
      },
      "source": [
        "# defines top_n_recommendations function that returns a dictionary with keys of user_ids and values of the top ten recommended movies for each user_id\n",
        "def top_n_recommendations(recommendations, n=10):\n",
        "  top_n = defaultdict(list)\n",
        "\n",
        "  for uid, iid, r_ui, est, _ in recommendations:\n",
        "    top_n[uid].append((iid, est))\n",
        "\n",
        "  for uid, user_ratings in top_n.items():\n",
        "    user_ratings.sort(key=lambda x: x[1], reverse=True)\n",
        "    top_n[uid] = user_ratings[:10]\n",
        "\n",
        "  return top_n"
      ],
      "execution_count": null,
      "outputs": []
    },
    {
      "cell_type": "code",
      "metadata": {
        "colab": {
          "base_uri": "https://localhost:8080/"
        },
        "id": "zT0vHk59-l5K",
        "outputId": "6972707b-f30b-44c9-db1b-aa7e32db0cf9"
      },
      "source": [
        "# pre-processes data\n",
        "data = Dataset.load_builtin('ml-1m')\n",
        "raw_dataset = data.raw_ratings\n",
        "random.shuffle(raw_dataset)\n",
        "train_set = data.build_full_trainset()"
      ],
      "execution_count": null,
      "outputs": [
        {
          "output_type": "stream",
          "name": "stdout",
          "text": [
            "Dataset ml-1m could not be found. Do you want to download it? [Y/n] Y\n",
            "Trying to download dataset from http://files.grouplens.org/datasets/movielens/ml-1m.zip...\n",
            "Done! Dataset ml-1m has been saved to /root/.surprise_data/ml-1m\n"
          ]
        }
      ]
    },
    {
      "cell_type": "code",
      "metadata": {
        "colab": {
          "base_uri": "https://localhost:8080/"
        },
        "id": "Ftla8vaEAJmH",
        "outputId": "0ef526ef-91bc-443e-f940-f2248a3cb179"
      },
      "source": [
        "# creates and trains algorithm\n",
        "algorithm_svd = SVD(n_epochs = 30, reg_all = 0.03)\n",
        "algorithm_svd.fit(train_set)"
      ],
      "execution_count": null,
      "outputs": [
        {
          "output_type": "execute_result",
          "data": {
            "text/plain": [
              "<surprise.prediction_algorithms.matrix_factorization.SVD at 0x7f06086694d0>"
            ]
          },
          "metadata": {},
          "execution_count": 6
        }
      ]
    },
    {
      "cell_type": "code",
      "metadata": {
        "id": "DDTWud0gAdRt"
      },
      "source": [
        "# finds predictions for content that users have not watched\n",
        "test_set = train_set.build_anti_testset()\n",
        "predictions = algorithm_svd.test(test_set)"
      ],
      "execution_count": null,
      "outputs": []
    },
    {
      "cell_type": "code",
      "metadata": {
        "id": "uva94lDXKre-"
      },
      "source": [
        "# finds top 10 recommendations for user x\n",
        "collaborative_top_recommendations = top_n_recommendations(predictions)\n",
        "user_x_collaborative_recommendations = collaborative_top_recommendations[x]"
      ],
      "execution_count": null,
      "outputs": []
    },
    {
      "cell_type": "markdown",
      "metadata": {
        "id": "4IqqhgbyLYC3"
      },
      "source": [
        "##Getting Top 10 recommendations for user x using content filtering"
      ]
    },
    {
      "cell_type": "code",
      "metadata": {
        "id": "1CGPV4UKLXYc"
      },
      "source": [
        "# imports libraries\n",
        "import numpy as np\n",
        "import pandas as pd\n",
        "from collections import Counter"
      ],
      "execution_count": null,
      "outputs": []
    },
    {
      "cell_type": "code",
      "metadata": {
        "id": "WVdkM0xFNFWi"
      },
      "source": [
        "# loads data from movies_1m.csv (movie ids and movie genres)\n",
        "movies_dataset = pd.read_csv('movies_1m.csv', header=None, encoding='latin-1')\n",
        "movie_ids_array = movies_dataset.iloc[:, 0].values\n",
        "movie_ids_list = movie_ids_array.tolist()\n",
        "movie_titles_array = movies_dataset.iloc[:, 1].values\n",
        "movie_titles_list = movie_titles_array.tolist()\n",
        "movie_genres = movies_dataset.iloc[:, 2].values"
      ],
      "execution_count": null,
      "outputs": []
    },
    {
      "cell_type": "code",
      "metadata": {
        "id": "jaRTNVMjNKfb"
      },
      "source": [
        "# list of all possible genres\n",
        "possible_genres = ['Action', 'Adventure', 'Animation', 'Children\\'s', 'Comedy', 'Crime', 'Documentary', 'Drama',\n",
        "                   'Fantasy', 'Film-Noir', 'Horror', 'Musical', 'Mystery', 'Romance', 'Sci-Fi', 'Thriller', 'War', 'Western']"
      ],
      "execution_count": null,
      "outputs": []
    },
    {
      "cell_type": "code",
      "metadata": {
        "id": "3qogUBv_NPs8"
      },
      "source": [
        "# encodes genres into lists of 0 and 1's \n",
        "movie_genres_list = []\n",
        "for movie in movie_genres:\n",
        "  genres = movie.split('|')\n",
        "  encoded_genres = []\n",
        "  for genre in possible_genres:\n",
        "    if genre in genres:\n",
        "      encoded_genres.append(1)\n",
        "    else:\n",
        "      encoded_genres.append(0)\n",
        "  movie_genres_list.append(encoded_genres)"
      ],
      "execution_count": null,
      "outputs": []
    },
    {
      "cell_type": "code",
      "metadata": {
        "id": "KtXlTsb3NHs5"
      },
      "source": [
        "# loads data from genome_scores_1m.csv (movie ids duplicated to correspond with tag relevances, tag ids duplicated, and tag relevances)\n",
        "tags_dataset = pd.read_csv('genome_scores_1m.csv', header=None)\n",
        "movie_ids_from_tags = tags_dataset.iloc[0, :].values\n",
        "tags_ids = tags_dataset.iloc[1, :].values\n",
        "tags_relevance = tags_dataset.iloc[2, :].values"
      ],
      "execution_count": null,
      "outputs": []
    },
    {
      "cell_type": "code",
      "metadata": {
        "id": "w9GthXCeNKjD"
      },
      "source": [
        "# Puts tags' relevances for each movie into list with items of format [relevance_1, relevance_2, ...]\n",
        "tags_ids_list = tags_ids.tolist()\n",
        "movie_ids_from_tags_list = movie_ids_from_tags.tolist()\n",
        "tags_relevance_list = tags_relevance.tolist()\n",
        "individual_movie_relevances = []\n",
        "for i in range(3952):\n",
        "  movie_i_relevances = []\n",
        "  for j in range(len(tags_relevance_list)):\n",
        "    if i == movie_ids_from_tags_list[j]:\n",
        "      movie_i_relevances.append(tags_relevance_list[j])\n",
        "    else:\n",
        "      individual_movie_relevances.append(movie_i_relevances)\n",
        "      break"
      ],
      "execution_count": null,
      "outputs": []
    },
    {
      "cell_type": "code",
      "metadata": {
        "id": "SAXTHIW3N_k2"
      },
      "source": [
        "# loads data from ratings.csv (user ids, movie ids, ratings, timestamp)\n",
        "ratings_dataset = pd.read_csv('ratings.csv')\n",
        "user_id_array = ratings_dataset.iloc[:, 0].values\n",
        "movies_watched_array = ratings_dataset.iloc[:, 1].values\n",
        "ratings_array = ratings_dataset.iloc[:, 2].values"
      ],
      "execution_count": null,
      "outputs": []
    },
    {
      "cell_type": "code",
      "metadata": {
        "id": "Moy4rqPKS8O4"
      },
      "source": [
        "# converts arrays from ratings_dataset into lists\n",
        "user_id_list = user_id_array.tolist()\n",
        "movies_watched_list = movies_watched_array.tolist()\n",
        "ratings_list = ratings_array.tolist()"
      ],
      "execution_count": null,
      "outputs": []
    },
    {
      "cell_type": "code",
      "metadata": {
        "id": "zaLFy_-ySKG_"
      },
      "source": [
        "# creates dictionary with form user_id: [list of movies the user rated 3 or up]\n",
        "all_liked_movies = defaultdict(list)\n",
        "for i in range(len(user_id_list)):\n",
        "    user_id = user_id_list[i]\n",
        "    movie_id = movies_watched_list[i]\n",
        "    rating = ratings_list[i]\n",
        "    if rating >= 3:\n",
        "      all_liked_movies[user_id].append(movie_id)   "
      ],
      "execution_count": null,
      "outputs": []
    },
    {
      "cell_type": "code",
      "metadata": {
        "id": "PWMa15U1NVv2"
      },
      "source": [
        "# creates list of movies that user x liked\n",
        "x_liked_movies = all_liked_movies[x]"
      ],
      "execution_count": null,
      "outputs": []
    },
    {
      "cell_type": "code",
      "metadata": {
        "id": "gNrUk3L9NS7L"
      },
      "source": [
        "# creates a master list with one entry for each movie\n",
        "# each entry is a list containing the movie's encoded values for genres and the movie's values for tag relevance\n",
        "movie_comparison_points = []\n",
        "for i in range(len(movie_genres_list)):\n",
        "  movie_i_genres = movie_genres_list[i]\n",
        "  movie_i_tag_relevances = individual_movie_relevances[i]\n",
        "  movie_i_comparison_points = movie_i_genres + movie_i_tag_relevances\n",
        "  movie_comparison_points.append(movie_i_comparison_points)"
      ],
      "execution_count": null,
      "outputs": []
    },
    {
      "cell_type": "code",
      "metadata": {
        "id": "6aXMF92vxWnU"
      },
      "source": [
        "# creates list of all movies that would be recommended for each movie liked by user x\n",
        "long_recommended_movies_for_x = []\n",
        "for movie_id in x_liked_movies:\n",
        "  # sets up values of chosen movie used as a recommendation basis\n",
        "  chosen_movie_index = movie_id - 1\n",
        "  chosen_movie_points = np.array(movie_comparison_points[chosen_movie_index])\n",
        "\n",
        "  # sets up values of movies other than the chosen movie\n",
        "  other_movie_points = movie_genres_list\n",
        "  other_movie_points.pop(chosen_movie_index)\n",
        "\n",
        "  # sets up lists to hold the highest similarity values and the corresponding movie ids\n",
        "  top_five_similarities = [0, 0, 0, 0, 0]\n",
        "  top_five_movie_ids = [0, 0, 0, 0, 0]\n",
        "\n",
        "  # calculates movie similarity and fills top_five lists\n",
        "  for i in range(len(other_movie_points)):\n",
        "    movie = np.array(other_movie_points[i])\n",
        "    similarity = np.dot(chosen_movie_points, movie) / (np.linalg.norm(chosen_movie_points) * np.linalg.norm(movie))\n",
        "    if similarity < top_five_similarities[4]:\n",
        "      continue\n",
        "    if pd.isna(similarity) == True:\n",
        "      continue\n",
        "    if similarity > top_five_similarities[0]:\n",
        "      top_five_similarities[0] = similarity\n",
        "      top_five_movie_ids[0] = movie_ids_list[i]\n",
        "    elif similarity > top_five_similarities[1]:\n",
        "      top_five_similarities[1] = similarity\n",
        "      top_five_movie_ids[1] = movie_ids_list[i]\n",
        "    elif similarity > top_five_similarities[2]:\n",
        "      top_five_similarities[2] = similarity\n",
        "      top_five_movie_ids[2] = movie_ids_list[i]\n",
        "    elif similarity > top_five_similarities[3]:\n",
        "      top_five_similarities[3] = similarity\n",
        "      top_five_movie_ids[3] = movie_ids_list[i]\n",
        "    else:\n",
        "      top_five_similarities[4] = similarity\n",
        "      top_five_movie_ids[4] = movie_ids_list[i]\n",
        "  for value in top_five_movie_ids:\n",
        "    long_recommended_movies_for_x.append(value)"
      ],
      "execution_count": null,
      "outputs": []
    },
    {
      "cell_type": "code",
      "metadata": {
        "id": "PHbNKtICy9HS"
      },
      "source": [
        "# finds the movie ids that appear most on long_recommended_movies_for_x (the ones that are most recommended)\n",
        "user_x_content_recommendations = Counter(long_recommended_movies_for_x).most_common(10)"
      ],
      "execution_count": null,
      "outputs": []
    },
    {
      "cell_type": "markdown",
      "metadata": {
        "id": "Y_Kp_xkT4CyR"
      },
      "source": [
        "##Putting it all together"
      ]
    },
    {
      "cell_type": "code",
      "metadata": {
        "id": "-veG_HKd1RNf"
      },
      "source": [
        "# finds \"top recommended movies\" (ones that are recommended both by collaborative and content) and \"recommended movies\" (ones that appear on exactly one recommendation list)\n",
        "collaborative_movies = set(user_x_content_recommendations)\n",
        "content_movies = set(user_x_collaborative_recommendations)\n",
        "top_recommended_movie_ids = collaborative_movies.intersection(content_movies)\n",
        "recommended_movie_ids = collaborative_movies.symmetric_difference(content_movies)"
      ],
      "execution_count": null,
      "outputs": []
    },
    {
      "cell_type": "code",
      "metadata": {
        "id": "BswKFDBw35Rl"
      },
      "source": [
        "# converts movie ids into movie titles (movie_titles_list)\n",
        "top_recommended_movies = []\n",
        "for movie_id in top_recommended_movie_ids:\n",
        "  index = movie_id - 1\n",
        "  movie_title = movie_titles_list[index]\n",
        "  top_recommended_movies.append(movie_title)\n",
        "for movie_id in recommended_movie_ids:\n",
        "  index = movie_id - 1\n",
        "  movie_title = movie_titles_list[index]\n",
        "  recommended_movies.append(movie_title)"
      ],
      "execution_count": null,
      "outputs": []
    },
    {
      "cell_type": "code",
      "metadata": {
        "id": "Gqjef8dq3ump"
      },
      "source": [
        "# prints results\n",
        "print('Top recommended movies: ' + top_recommended_movies)\n",
        "print('Recommended movies: ' + recommended_movies)"
      ],
      "execution_count": null,
      "outputs": []
    }
  ]
}